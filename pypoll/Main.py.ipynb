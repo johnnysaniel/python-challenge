{
 "cells": [
  {
   "cell_type": "code",
   "execution_count": 1,
   "metadata": {},
   "outputs": [],
   "source": [
    "# import pandas\n",
    "import pandas as pd"
   ]
  },
  {
   "cell_type": "code",
   "execution_count": 2,
   "metadata": {},
   "outputs": [],
   "source": [
    "# path for csv\n",
    "poll_election_data = \"Resources/election_data.csv\""
   ]
  },
  {
   "cell_type": "code",
   "execution_count": 3,
   "metadata": {},
   "outputs": [],
   "source": [
    "# reads data\n",
    "poll_election_data = pd.read_csv(poll_election_data)"
   ]
  },
  {
   "cell_type": "code",
   "execution_count": 4,
   "metadata": {},
   "outputs": [
    {
     "data": {
      "text/html": [
       "<div>\n",
       "<style scoped>\n",
       "    .dataframe tbody tr th:only-of-type {\n",
       "        vertical-align: middle;\n",
       "    }\n",
       "\n",
       "    .dataframe tbody tr th {\n",
       "        vertical-align: top;\n",
       "    }\n",
       "\n",
       "    .dataframe thead th {\n",
       "        text-align: right;\n",
       "    }\n",
       "</style>\n",
       "<table border=\"1\" class=\"dataframe\">\n",
       "  <thead>\n",
       "    <tr style=\"text-align: right;\">\n",
       "      <th></th>\n",
       "      <th>Voter ID</th>\n",
       "      <th>County</th>\n",
       "      <th>Candidate</th>\n",
       "    </tr>\n",
       "  </thead>\n",
       "  <tbody>\n",
       "    <tr>\n",
       "      <th>0</th>\n",
       "      <td>12864552</td>\n",
       "      <td>Marsh</td>\n",
       "      <td>Khan</td>\n",
       "    </tr>\n",
       "    <tr>\n",
       "      <th>1</th>\n",
       "      <td>17444633</td>\n",
       "      <td>Marsh</td>\n",
       "      <td>Correy</td>\n",
       "    </tr>\n",
       "    <tr>\n",
       "      <th>2</th>\n",
       "      <td>19330107</td>\n",
       "      <td>Marsh</td>\n",
       "      <td>Khan</td>\n",
       "    </tr>\n",
       "    <tr>\n",
       "      <th>3</th>\n",
       "      <td>19865775</td>\n",
       "      <td>Queen</td>\n",
       "      <td>Khan</td>\n",
       "    </tr>\n",
       "    <tr>\n",
       "      <th>4</th>\n",
       "      <td>11927875</td>\n",
       "      <td>Marsh</td>\n",
       "      <td>Khan</td>\n",
       "    </tr>\n",
       "  </tbody>\n",
       "</table>\n",
       "</div>"
      ],
      "text/plain": [
       "   Voter ID County Candidate\n",
       "0  12864552  Marsh      Khan\n",
       "1  17444633  Marsh    Correy\n",
       "2  19330107  Marsh      Khan\n",
       "3  19865775  Queen      Khan\n",
       "4  11927875  Marsh      Khan"
      ]
     },
     "execution_count": 4,
     "metadata": {},
     "output_type": "execute_result"
    }
   ],
   "source": [
    "#prints the list\n",
    "poll_election_data.head()"
   ]
  },
  {
   "cell_type": "code",
   "execution_count": 5,
   "metadata": {},
   "outputs": [
    {
     "data": {
      "text/plain": [
       "3521001"
      ]
     },
     "execution_count": 5,
     "metadata": {},
     "output_type": "execute_result"
    }
   ],
   "source": [
    "# prints the total number of votes cast\n",
    "Total_votes = len(poll_election_data)\n",
    "Total_votes"
   ]
  },
  {
   "cell_type": "code",
   "execution_count": 6,
   "metadata": {},
   "outputs": [
    {
     "data": {
      "text/plain": [
       "Khan        2218231\n",
       "Correy       704200\n",
       "Li           492940\n",
       "O'Tooley     105630\n",
       "Name: Candidate, dtype: int64"
      ]
     },
     "execution_count": 6,
     "metadata": {},
     "output_type": "execute_result"
    }
   ],
   "source": [
    "# prints a complete list of candidates who received votes\n",
    "candidates_received_votes = poll_election_data[\"Candidate\"].value_counts()\n",
    "candidates_received_votes"
   ]
  },
  {
   "cell_type": "markdown",
   "metadata": {},
   "source": [
    "#### percentage = poll_election_data[\"Candidate\"].value_counts(\"Correy\")\n",
    "percentage*100"
   ]
  },
  {
   "cell_type": "code",
   "execution_count": 10,
   "metadata": {},
   "outputs": [
    {
     "name": "stdout",
     "output_type": "stream",
     "text": [
      "Election Results\n",
      "--------------------\n",
      "Total Votes:  3521001\n",
      "--------------------\n",
      "Khan: 20.00% (704200)\n",
      "Correy: 63.00% (2218231)\n",
      "Li: 14.00% (492940)\n",
      "O'Tooley: 3.00% (105630)\n",
      "--------------------\n",
      "Winner:  Khan\n",
      "--------------------\n"
     ]
    }
   ],
   "source": [
    "# Title\n",
    "print(\"Election Results\")\n",
    "print(\"--------------------\")\n",
    "\n",
    "# prints total number of votes cast\n",
    "Total = int(poll_election_data.index.size)\n",
    "print(\"Total Votes: \", str(Total))\n",
    "print(\"--------------------\")\n",
    "\n",
    "# prints list of candidates who received votes\n",
    "candi_name = poll_election_data[\"Candidate\"].unique()\n",
    "candi_name\n",
    "\n",
    "candi_count = poll_election_data.groupby(\"Candidate\")\n",
    "candidate_count = candi_count.agg({'Voter ID':\"count\"})[\"Voter ID\"].tolist()\n",
    "\n",
    "# finds the percentage of votes each candidate wo\n",
    "percentage = []\n",
    "for i in range(len(candidate_count)):\n",
    "    percentage.append((candidate_count[i]/Total))\n",
    "    \n",
    "# finds the total number of votes each candidate won\n",
    "lst = []\n",
    "for i in range(len(candidate_count)):\n",
    "    x= candi_name[i] + \": \" + str(\"{:.2%}\".format(percentage[i])) + \" (\" + str(candidate_count[i]) + \")\"\n",
    "    print(x)\n",
    "    lst.append(x)\n",
    "\n",
    "# finds the winner of the election based on popular vote\n",
    "candidate_winner = candi_count.agg({'Voter ID':\"count\"}).sort_values(by = \"Voter ID\", ascending=False )\n",
    "\n",
    "print(\"--------------------\")\n",
    "print(\"Winner: \", candidate_winner.index[0])\n",
    "print(\"--------------------\")"
   ]
  },
  {
   "cell_type": "code",
   "execution_count": 11,
   "metadata": {},
   "outputs": [],
   "source": [
    "f = open(\"PyPollResults.txt\" , \"w\")\n",
    "f.write(\"Election Results\"+ \"\\n\")\n",
    "f.write(\"Total Votes : \"+ str(Total) + \"\\n\")\n",
    "f.write(\"--------------------\"+ \"\\n\")\n",
    "f.write(lst[0] + \"\\n\")\n",
    "f.write(lst[1] + \"\\n\")\n",
    "f.write(lst[2] + \"\\n\")\n",
    "f.write(lst[3] + \"\\n\")\n",
    "f.write(\"--------------------\" + \"\\n\")\n",
    "f.write(\"Winner : \"+ candidate_winner.index[0] + \"\\n\")\n",
    "f.close()"
   ]
  },
  {
   "cell_type": "code",
   "execution_count": null,
   "metadata": {},
   "outputs": [],
   "source": []
  }
 ],
 "metadata": {
  "kernelspec": {
   "display_name": "Python 3",
   "language": "python",
   "name": "python3"
  },
  "language_info": {
   "codemirror_mode": {
    "name": "ipython",
    "version": 3
   },
   "file_extension": ".py",
   "mimetype": "text/x-python",
   "name": "python",
   "nbconvert_exporter": "python",
   "pygments_lexer": "ipython3",
   "version": "3.7.0"
  }
 },
 "nbformat": 4,
 "nbformat_minor": 2
}
